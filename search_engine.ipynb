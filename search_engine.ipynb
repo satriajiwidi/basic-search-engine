{
 "cells": [
  {
   "cell_type": "markdown",
   "metadata": {},
   "source": [
    "# Simple Search Engine\n",
    "Menggunakan **TF-IDF** sebagai pembobotan feature vector text dan **cosine similarity** untuk menghitung tingkat kedekatan antar string."
   ]
  },
  {
   "cell_type": "markdown",
   "metadata": {},
   "source": [
    "## Import library yang dibutuhkan"
   ]
  },
  {
   "cell_type": "code",
   "execution_count": 1,
   "metadata": {},
   "outputs": [
    {
     "name": "stdout",
     "output_type": "stream",
     "text": [
      "[nltk_data] Downloading package stopwords to\n",
      "[nltk_data]     /home/satriajiwidi/nltk_data...\n",
      "[nltk_data]   Package stopwords is already up-to-date!\n",
      "[nltk_data] Downloading package punkt to\n",
      "[nltk_data]     /home/satriajiwidi/nltk_data...\n",
      "[nltk_data]   Package punkt is already up-to-date!\n",
      "[nltk_data] Downloading package wordnet to\n",
      "[nltk_data]     /home/satriajiwidi/nltk_data...\n",
      "[nltk_data]   Package wordnet is already up-to-date!\n"
     ]
    },
    {
     "data": {
      "text/plain": [
       "True"
      ]
     },
     "execution_count": 1,
     "metadata": {},
     "output_type": "execute_result"
    }
   ],
   "source": [
    "import random\n",
    "import re\n",
    "import numpy as np\n",
    "import pandas as pd\n",
    "import nltk\n",
    "from nltk.tokenize import RegexpTokenizer, word_tokenize\n",
    "from nltk.stem.wordnet import WordNetLemmatizer\n",
    "from nltk.stem import PorterStemmer\n",
    "from nltk.corpus import stopwords as nltk_stopwords\n",
    "from sklearn.metrics.pairwise import cosine_similarity\n",
    "from sklearn.feature_extraction.text import TfidfVectorizer\n",
    "from nltk import FreqDist\n",
    "\n",
    "# download data-data yang dibutuhkan nltk\n",
    "nltk.download('stopwords')\n",
    "nltk.download('punkt')\n",
    "nltk.download('wordnet')"
   ]
  },
  {
   "cell_type": "markdown",
   "metadata": {},
   "source": [
    "## Baca dataset\n",
    "Dataset yang digunakan adalah dataset IMDb Movie Review (yang sebenarnya adalah dataset untuk melakukan sentiment analysis, namun untuk hal ini label sentiment diabaikan)"
   ]
  },
  {
   "cell_type": "code",
   "execution_count": 2,
   "metadata": {},
   "outputs": [],
   "source": [
    "data = pd.read_csv('imdb_master.csv', encoding='latin-1')"
   ]
  },
  {
   "cell_type": "code",
   "execution_count": 3,
   "metadata": {},
   "outputs": [],
   "source": [
    "# yang akan dilakukan pre-processing\n",
    "texts = data.review.tolist()\n",
    "# dipilih secara random 1000 data saja (untuk menyederhakan komputasi)\n",
    "random.seed(123)\n",
    "texts = random.sample(texts, 1000)\n",
    "\n",
    "# data original\n",
    "data = texts"
   ]
  },
  {
   "cell_type": "markdown",
   "metadata": {},
   "source": [
    "## Beberapa fungsi yang dibutuhkan untuk melakukan pre-processing text\n",
    "- *rm_stopwords*: fungsi untuk menghapus stopwords dari text\n",
    "- *rm_punc*: fungsi untuk menghapus tanda baca dari text\n",
    "- *lemmatize*: fungsi untuk mengubah kata sesuai kamus Inggris\n",
    "- *stem*: fungsi untuk mengubah kata menjadi kata dasar\n",
    "- *preprocess*: fungsi untuk melakukan 4 fungsi sebelumnya sekaligus\n",
    "- *vectorize*: fungsi untuk mengubah text menjadi feature vector"
   ]
  },
  {
   "cell_type": "code",
   "execution_count": 4,
   "metadata": {},
   "outputs": [],
   "source": [
    "def rm_stopwords(texts, stopwords):\n",
    "    result = []\n",
    "    for text in texts:\n",
    "        text = [word for word in text.lower().split()\n",
    "                if word not in stopwords]\n",
    "        result.append(' '.join(text))\n",
    "    \n",
    "    return result\n",
    "\n",
    "\n",
    "def rm_punc(texts):\n",
    "    tokenizer = RegexpTokenizer(r'\\w+')\n",
    "    \n",
    "    return [' '.join(tokenizer.tokenize(text)) for text in texts]\n",
    "\n",
    "\n",
    "def lemmatize(texts):\n",
    "    lemmatizer = WordNetLemmatizer()\n",
    "    result = []\n",
    "    \n",
    "    for text in texts:\n",
    "        words = word_tokenize(text)\n",
    "        words = [lemmatizer.lemmatize(word) for word in words]\n",
    "        result.append(' '.join(words))\n",
    "    \n",
    "    return result\n",
    "\n",
    "\n",
    "def stem(texts):\n",
    "    stemmer = PorterStemmer()\n",
    "    result = []\n",
    "    \n",
    "    for text in texts:\n",
    "        words = word_tokenize(text)\n",
    "        words = [stemmer.stem(word) for word in words]\n",
    "        result.append(' '.join(words))\n",
    "    \n",
    "    return result\n",
    "\n",
    "\n",
    "def preprocess(texts, stopwords):\n",
    "    return stem(lemmatize(rm_punc(rm_stopwords(texts, stopwords))))\n",
    "\n",
    "\n",
    "def vectorize(texts, vocabulary):\n",
    "    vectorizer = TfidfVectorizer(vocabulary=vocabulary)\n",
    "    \n",
    "    return vectorizer.fit_transform(texts)"
   ]
  },
  {
   "cell_type": "markdown",
   "metadata": {},
   "source": [
    "## Stopwords"
   ]
  },
  {
   "cell_type": "code",
   "execution_count": 5,
   "metadata": {},
   "outputs": [],
   "source": [
    "# load list stopwords bahasa Inggris\n",
    "stopwords = nltk_stopwords.words('english')"
   ]
  },
  {
   "cell_type": "code",
   "execution_count": 6,
   "metadata": {},
   "outputs": [
    {
     "name": "stdout",
     "output_type": "stream",
     "text": [
      "['i', 'me', 'my', 'myself', 'we', 'our', 'ours', 'ourselves', 'you', \"you're\"]\n"
     ]
    }
   ],
   "source": [
    "print(stopwords[:10])"
   ]
  },
  {
   "cell_type": "markdown",
   "metadata": {},
   "source": [
    "## Pre-process text"
   ]
  },
  {
   "cell_type": "code",
   "execution_count": 7,
   "metadata": {},
   "outputs": [
    {
     "name": "stdout",
     "output_type": "stream",
     "text": [
      "saw film fantasi filmfest berlin impress br br a far stori go girlfriend return ...\n"
     ]
    }
   ],
   "source": [
    "texts = preprocess(texts, stopwords)\n",
    "print(texts[0][:80] + '...')"
   ]
  },
  {
   "cell_type": "markdown",
   "metadata": {},
   "source": [
    "## Buat vocabulary"
   ]
  },
  {
   "cell_type": "code",
   "execution_count": 8,
   "metadata": {},
   "outputs": [
    {
     "name": "stdout",
     "output_type": "stream",
     "text": [
      "['aamir', 'aaron', 'abandon', 'abc', 'abduct']\n"
     ]
    }
   ],
   "source": [
    "def is_number(word):  # cek apakah numerik\n",
    "    return bool(re.search(r'\\d', word))\n",
    "\n",
    "# berikut dilakukan beberapa proses eliminasi untuk memperkecil ukuran vektor\n",
    "# eliminasi kata dengan panjang <= 2 dan kata yang mengandung numerik\n",
    "all_words = [word for text in texts for word in word_tokenize(text)\n",
    "            if len(word) > 2 and not is_number(word)]\n",
    "\n",
    "# eliminasi kata jika frekuensi kemunculannya tidak lebih dari satu kali\n",
    "fd = dict(FreqDist(all_words))\n",
    "all_words = [word for word in all_words if fd[word] > 1]\n",
    "all_words = sorted(list(set(all_words)))\n",
    "\n",
    "print(all_words[:5])"
   ]
  },
  {
   "cell_type": "code",
   "execution_count": 9,
   "metadata": {},
   "outputs": [
    {
     "name": "stdout",
     "output_type": "stream",
     "text": [
      "panjang kamus: 7152\n"
     ]
    }
   ],
   "source": [
    "# total panjang kamus yang terbentuk\n",
    "print('panjang kamus:', len(all_words))"
   ]
  },
  {
   "cell_type": "code",
   "execution_count": 10,
   "metadata": {},
   "outputs": [],
   "source": [
    "texts = vectorize(texts, all_words)"
   ]
  },
  {
   "cell_type": "markdown",
   "metadata": {},
   "source": [
    "## Definisikan string query"
   ]
  },
  {
   "cell_type": "code",
   "execution_count": 11,
   "metadata": {},
   "outputs": [],
   "source": [
    "# string query yang akan digunakan sebagai query pencarian\n",
    "query = 'worst horror movie ever'\n",
    "query = vectorize(preprocess([query], stopwords), all_words)"
   ]
  },
  {
   "cell_type": "markdown",
   "metadata": {},
   "source": [
    "## Hitung kemiripan antara query dengan seluruh text dan ambil *n* text terdekat"
   ]
  },
  {
   "cell_type": "code",
   "execution_count": 12,
   "metadata": {},
   "outputs": [],
   "source": [
    "# perhitungan cosine similarity\n",
    "sim = cosine_similarity(query, texts)\n",
    "sim = sim.reshape(sim.shape[1], )"
   ]
  },
  {
   "cell_type": "code",
   "execution_count": 13,
   "metadata": {},
   "outputs": [
    {
     "data": {
      "text/plain": [
       "[417, 606, 983, 523, 990, 378, 574, 399, 432, 927]"
      ]
     },
     "execution_count": 13,
     "metadata": {},
     "output_type": "execute_result"
    }
   ],
   "source": [
    "n = 10  # hanya 10 text paling mirip yang akan ditampilkan\n",
    "indices = np.argpartition(sim, -n)[-n:]\n",
    "\n",
    "def sort_by_val(i):  # fungsi custom sort parameter\n",
    "    return sim[i]\n",
    "\n",
    "# indeks-indeks 10 text paling relevan (atau dekat) dengan query\n",
    "# urut secara descending\n",
    "indices = sorted(indices, key=sort_by_val, reverse=True)\n",
    "indices"
   ]
  },
  {
   "cell_type": "markdown",
   "metadata": {},
   "source": [
    "## Tampilkan hasil"
   ]
  },
  {
   "cell_type": "code",
   "execution_count": 14,
   "metadata": {},
   "outputs": [
    {
     "name": "stdout",
     "output_type": "stream",
     "text": [
      "1.\n",
      "cosine similarity: 0.3732\n",
      "Positively one of the worst horror movies ever. Bad script, acting, music... you...\n",
      "\n",
      "2.\n",
      "cosine similarity: 0.24779\n",
      "This movie was by far the worst movie that I have ever seen in my entire life. I...\n",
      "\n",
      "3.\n",
      "cosine similarity: 0.23323\n",
      "This is possibly the worst movie I have ever seen. Can somebody please explain t...\n",
      "\n",
      "4.\n",
      "cosine similarity: 0.23184\n",
      "First of all, I have to say I have worked for blockbuster and have seen quite a ...\n",
      "\n",
      "5.\n",
      "cosine similarity: 0.22723\n",
      "Absolutely one of the worst movies I've ever seen! \"The Beginning\" was not the g...\n",
      "\n",
      "6.\n",
      "cosine similarity: 0.2259\n",
      "I don't think there is any kind of constructive criticism I could offer to a mov...\n",
      "\n",
      "7.\n",
      "cosine similarity: 0.22481\n",
      "This movie was so cool! I saw it on a Friday night with a couple of my friends. ...\n",
      "\n",
      "8.\n",
      "cosine similarity: 0.21403\n",
      "It's amazing that this movie turns out to be in one of my hitlists after all. It...\n",
      "\n",
      "9.\n",
      "cosine similarity: 0.2113\n",
      "Charles Bronson continued his 80's slump with what could possibly be his worst m...\n",
      "\n",
      "10.\n",
      "cosine similarity: 0.20526\n",
      "Oh where to begin! This movie was so ridiculous I'm almost ashamed to admit that...\n",
      "\n"
     ]
    }
   ],
   "source": [
    "for index, i in enumerate(indices):\n",
    "    print(str(index+1) + '.')\n",
    "    print('cosine similarity:', round(sim[i], 5))\n",
    "    print(data[i][:80] + '...')\n",
    "    print()"
   ]
  },
  {
   "cell_type": "code",
   "execution_count": null,
   "metadata": {},
   "outputs": [],
   "source": []
  }
 ],
 "metadata": {
  "kernelspec": {
   "display_name": "Python 3",
   "language": "python",
   "name": "python3"
  },
  "language_info": {
   "codemirror_mode": {
    "name": "ipython",
    "version": 3
   },
   "file_extension": ".py",
   "mimetype": "text/x-python",
   "name": "python",
   "nbconvert_exporter": "python",
   "pygments_lexer": "ipython3",
   "version": "3.5.2"
  }
 },
 "nbformat": 4,
 "nbformat_minor": 2
}
